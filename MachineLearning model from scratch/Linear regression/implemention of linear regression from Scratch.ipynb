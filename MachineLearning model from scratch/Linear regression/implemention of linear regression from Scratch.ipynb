{
 "cells": [
  {
   "cell_type": "markdown",
   "metadata": {},
   "source": [
    "# Implementation On linear regession from screatch"
   ]
  },
  {
   "cell_type": "code",
   "execution_count": 1,
   "metadata": {},
   "outputs": [],
   "source": [
    "import numpy as np\n",
    "\n",
    "class LinearRegression:\n",
    "\n",
    "    def __init__(self, learning_rate=0.001, n_iters=1000):\n",
    "        self.lr = learning_rate\n",
    "        self.n_iters = n_iters\n",
    "        self.weights = None\n",
    "        self.bias = None\n",
    "\n",
    "    def fit(self, X, y):\n",
    "        n_samples, n_features = X.shape\n",
    "\n",
    "        # init parameters\n",
    "        self.weights = np.zeros(n_features)\n",
    "        self.bias = 0\n",
    "\n",
    "        # gradient descent\n",
    "        for _ in range(self.n_iters):\n",
    "            y_predicted = np.dot(X, self.weights) + self.bias\n",
    "            # compute gradients\n",
    "            dw = (1 / n_samples) * np.dot(X.T, (y_predicted - y))\n",
    "            db = (1 / n_samples) * np.sum(y_predicted - y)\n",
    "\n",
    "            # update parameters\n",
    "            self.weights -= self.lr * dw\n",
    "            self.bias -= self.lr * db\n",
    " \n",
    "\n",
    "    def predict(self, X):\n",
    "        y_approximated = np.dot(X, self.weights) + self.bias\n",
    "        return y_approximated"
   ]
  },
  {
   "cell_type": "code",
   "execution_count": 3,
   "metadata": {
    "scrolled": true
   },
   "outputs": [
    {
     "name": "stdout",
     "output_type": "stream",
     "text": [
      "(80, 1)\n",
      "(80,)\n",
      "305.77413162286416\n"
     ]
    }
   ],
   "source": [
    "from sklearn.model_selection import train_test_split\n",
    "from sklearn import datasets\n",
    "import matplotlib.pyplot as plt\n",
    "\n",
    "# Creating a dataset\n",
    "X,y = datasets.make_regression(n_samples = 100 ,n_features = 1, noise = 20 , random_state =4)\n",
    "X_train, X_test, y_train ,y_test = train_test_split(X,y,test_size = 0.2,random_state = 1234)\n",
    "\n",
    "print(X_train.shape)\n",
    "print(y_train.shape)\n",
    "\n",
    "# Load the model\n",
    "regressor = LinearRegression(learning_rate= 0.1)\n",
    "regressor.fit(X_train,y_train)\n",
    "predict = regressor.predict(X_test)\n",
    "\n",
    "#Here we dont use accuracy_score to check the model accuracy we use mean square erro to check the accuracy\n",
    "\n",
    "def mse(y_true,y_predict):\n",
    "    return np.mean((y_true-y_predict)**2)\n",
    "\n",
    "print(mse(y_test,predict))\n",
    "\n",
    "# Output : 783.566447456104 when learning rate is 0.001\n",
    "# Output : 318.799616034488 when learning rate is 0.01\n",
    "# Output : 305.77413162286416 when learining rate is 0.1"
   ]
  }
 ],
 "metadata": {
  "kernelspec": {
   "display_name": "Python 3",
   "language": "python",
   "name": "python3"
  }
 },
 "nbformat": 4,
 "nbformat_minor": 2
}
