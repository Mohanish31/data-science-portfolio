{
 "cells": [
  {
   "cell_type": "markdown",
   "metadata": {},
   "source": [
    "# Implementation of KNN"
   ]
  },
  {
   "cell_type": "code",
   "execution_count": 1,
   "metadata": {},
   "outputs": [],
   "source": [
    "import numpy as np\n",
    "from collections import Counter\n",
    "\n",
    "# Function which help model to get the distance\n",
    "\n",
    "def eucliendean_distance(x1,x2):\n",
    "    return np.sqrt(np.sum((x1-x2)**2))\n",
    "\n",
    "# Model creation\n",
    "class KNN:\n",
    "    def __init__(self,k=3,):\n",
    "        self.k = k\n",
    "    # Like sklearn we have a fit where we put the dataset\n",
    "    def fit(self,X,y):\n",
    "        self.X_train = X\n",
    "        self.y_train = y\n",
    "    \n",
    "    #in predict we are pasing the X train dataset\n",
    "    def predict(self,X):\n",
    "        #Using _predict function to give us the result in list format\n",
    "        predicted_labels = [self._predict(x) for x in X]\n",
    "        #coverting the list into array\n",
    "        return np.array(predicted_labels)\n",
    "    \n",
    "    def _predict(self,x):\n",
    "        # compute the distances with def eucliendean_distance(x1,x2): function \n",
    "        distances  = [eucliendean_distance(x,x_train) for x_train in self.X_train]\n",
    "        # Get K nearest sample,label\n",
    "        #Sort the list of distance and get the indices of k nearest sample\n",
    "        k_indices = np.argsort(distances)[:self.k]\n",
    "        #get the k nearest label for k_indices \n",
    "        k_nearest_labels = [self.y_train[i] for i in k_indices]\n",
    "        # majority vote,most common class label\n",
    "        #find the class label which come mostly for the value \n",
    "        most_common =  Counter(k_nearest_labels).most_common(1)       \n",
    "        return most_common[0][0]"
   ]
  },
  {
   "cell_type": "markdown",
   "metadata": {},
   "source": [
    "# Using the model "
   ]
  },
  {
   "cell_type": "code",
   "execution_count": 2,
   "metadata": {},
   "outputs": [],
   "source": [
    "# Here i m using iris dataset \n",
    "from sklearn import datasets\n",
    "iris = datasets.load_iris()"
   ]
  },
  {
   "cell_type": "code",
   "execution_count": 3,
   "metadata": {},
   "outputs": [],
   "source": [
    "X,y = iris.data,iris.target\n",
    "from sklearn.model_selection import train_test_split\n",
    "Xtrain,X_test,y_train,y_test = train_test_split(X,y,test_size = 0.2, random_state = 1234)"
   ]
  },
  {
   "cell_type": "code",
   "execution_count": 4,
   "metadata": {},
   "outputs": [
    {
     "name": "stdout",
     "output_type": "stream",
     "text": [
      "0.9666666666666667\n"
     ]
    }
   ],
   "source": [
    "# Creating and object of the class\n",
    "\n",
    "KNN_clf = KNN(k=5)\n",
    "KNN_clf.fit(Xtrain,y_train)\n",
    "predict = KNN_clf.predict(X_test)\n",
    "\n",
    "acc_score = np.sum(predict == y_test)/len(y_test)\n",
    "print(acc_score)\n",
    "\n",
    "\n",
    "Output : 0.9666666666666667"
   ]
  },
  {
   "cell_type": "code",
   "execution_count": 5,
   "metadata": {},
   "outputs": [],
   "source": [
    "#Hurray  we created the model "
   ]
  }
 ],
 "metadata": {
  "kernelspec": {
   "display_name": "Python 3",
   "language": "python",
   "name": "python3"
  },
  "language_info": {
   "codemirror_mode": {
    "name": "ipython",
    "version": 3
   },
   "file_extension": ".py",
   "mimetype": "text/x-python",
   "name": "python",
   "nbconvert_exporter": "python",
   "pygments_lexer": "ipython3",
   "version": "3.7.0"
  }
 },
 "nbformat": 4,
 "nbformat_minor": 2
}
