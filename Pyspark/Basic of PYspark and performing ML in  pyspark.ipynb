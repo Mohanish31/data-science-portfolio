{
 "cells": [
  {
   "cell_type": "markdown",
   "metadata": {},
   "source": [
    "###### What is spark? and what is its used\n",
    " - It is distributed computing engine.\n",
    " - Used to process and analyze large dataset.Just like Hadoop Mapreduce\n",
    " - It also works with system distribute data across the culster and process the data in parallel."
   ]
  },
  {
   "cell_type": "markdown",
   "metadata": {},
   "source": [
    "##### Difference between Hadoop and Spark?\n",
    " - Spark can do it in-memory\n",
    " - hadoop Mapreduce has to read from and write to a disk \n",
    " - as a result spark become 100 time faster"
   ]
  },
  {
   "cell_type": "markdown",
   "metadata": {},
   "source": [
    "##### What is pyspark? and what is it used \n",
    " - It is a python API for Spark.\n",
    " - Pyspark , help you interface with Resilient Distributed Datasets (RDDs) in Apache Spark and Python programming language"
   ]
  },
  {
   "cell_type": "markdown",
   "metadata": {},
   "source": [
    "##### What is SparkConf?\n",
    " - It offers configuration of any spark application\n",
    " - set(key,value): used to set a configuration property\n",
    " - setMaster(value) : Used to set an master URL\n",
    " - setAppName(value) : Used to set an aplication name.\n",
    " - get(Key,defaultValue = None) : used to get a configuration value of key.\n",
    " - setSparkHome(value) : used to set the Spark Installation path"
   ]
  },
  {
   "cell_type": "markdown",
   "metadata": {},
   "source": [
    "##### PySparkContext?\n",
    "SparkContext is the entry gate of any Spark-derived application or functionality. It is the first and formst this that get\n",
    "intiated when you run any spark application . In Pyspark , SparkContext is available as sc by default aso creating a new SparkContext will throw an error.\n",
    "###### Parameter\n",
    "- Master : The URL of cluster SparkContext Connects to\n",
    "- AppName : The name of any job\n",
    "- SparkHome :A Spark installation directory\n",
    "- Pyfile: The .zip or .py file send to cluster and then added to pythonpath\n",
    "- Environment: Worker Node environment Variable\n",
    "- Batched Size: The number of python Object represented however to disable batching ,set the values to 1; to automatically choose the batch size based on the object size set it to 0; and to use an unlimited batch size set it to -1.\n",
    "- Serilizer : This parameter tell about an RDD serializer\n",
    "- Conf : An Object of L{SparkConf} to set all spark Properties\n",
    "- Profiler_cls : A class of custom profilers used to do profiling however pyspark.profiler.BasicProfiler is the default"
   ]
  },
  {
   "cell_type": "markdown",
   "metadata": {},
   "source": [
    "###### What is SparkFiles and Class Methods?\n",
    " - Sparkfile is used when we need to upload your files in Apache Spark using SparkContext.addfile()\n",
    " - Note: Here, to perform class methods in SparkFiles, a file named ‘path’ is created, and the dataset is uploaded on it using os.path.join(“path”,”filename”).\n",
    "##### Class Methods: How to Use Them?\n",
    " - two type of class method\n",
    " - get(filename): This class method is used when you need to specify the path of the file that you added using SparkContect.addfile() or sc.addfile()\n",
    "- from pyspark import SparkFiles\n",
    "- from pyspark import SparkContext\n",
    "- path = os.path.join(\"/Users/intellipaat/Downloads/spark-2.3.2-bin-hadoop2.7\", \"Fortune5002017.csv\")\n",
    "- sc.addFile(path)\n",
    "- SparkFiles.get(path)\n",
    " - getRootDirectory(): It is used to specify the path to the root directory where the file that you added using SparkContext.addFile() or sc.addFile(), exists. \n",
    "- from pyspark import SparkFiles\n",
    "- from pyspark import SparkContext\n",
    "- path = os.path.join(\"/Users/intellipaat/Downloads/spark-2.3.2-bin-hadoop2.7\", \"Fortune5002017.csv\")\n",
    "- sc.addFile(path)\n",
    "- SparkFiles.getRootDirectory()\n",
    "\n"
   ]
  },
  {
   "attachments": {},
   "cell_type": "markdown",
   "metadata": {},
   "source": [
    "###### RDD Resilient Distributed Dataset\n",
    "- immutable,Distributed,Partitioned\n",
    "- its is like arrary , set of element that are divided across multiple nodes in acluster to run parallel processing.\n",
    "- RDD can automatically recover from failure\n",
    " - RDDName = sc.textFile(“ path of the file to be uploaded”)\n",
    "- operation:\n",
    " - take(n)\n",
    " - count()\n",
    " - top(n)"
   ]
  },
  {
   "cell_type": "markdown",
   "metadata": {},
   "source": [
    "##### What are Transformation Operation?\n",
    "- Map\n",
    "- filter\n",
    "- reduceByKey()\n",
    "- groupByKey()\n",
    "- union()\n",
    "- intersection()\n",
    "###### Action operation?\n",
    "- Count()\n",
    "- Collect()\n",
    "- Reduce()\n",
    "- Take()\n",
    "- foreach()\n",
    "- First()\n"
   ]
  },
  {
   "cell_type": "markdown",
   "metadata": {},
   "source": [
    "##### What is MLlib?\n",
    "- Its Machine Learning API \n",
    "- Algorithm in pySpark MLlib\n",
    "  -mllib.classification\n",
    "  -mllib.clustering\n",
    "  -mllib.linalg\n",
    "  -mllib.recommendation\n",
    "  -spark.mllib"
   ]
  },
  {
   "cell_type": "markdown",
   "metadata": {},
   "source": [
    "### Perform Linear Regression on Real-world Dataset"
   ]
  },
  {
   "cell_type": "code",
   "execution_count": 1,
   "metadata": {},
   "outputs": [
    {
     "data": {
      "text/plain": [
       "[Row(Rank=1, Company Name='Walmart', Number of Employees='23,00,000', Previous Rank=1, Revenues='$4,85,873', Revenue Change='0.8%', Profits='$13,643.0', Profit Change='-7.2%', Assets='$1,98,825', Market Value='$2,18,619')]"
      ]
     },
     "execution_count": 1,
     "metadata": {},
     "output_type": "execute_result"
    }
   ],
   "source": [
    "import findspark\n",
    "findspark.init()\n",
    "import pyspark\n",
    "sc = pyspark.SparkContext(\"local\",\"Machine learning\") # To run Spark Application a driver program starts, which has the main function  and your SparkContext gets intiated here.\n",
    "sqlContext = pyspark.SQLContext(sc) #SQLContext is used to create dataframe,register Dataframe as table\n",
    "company_df = sqlContext.read.format('com.databricks.spark.csv').options(header='true', inferschema='true').load('D:\\STUDY\\pyspark\\Pyspark study\\Dataset\\Fortune 500 Companies US.csv')\n",
    "company_df.take(1)  # load first row"
   ]
  },
  {
   "cell_type": "markdown",
   "metadata": {},
   "source": [
    "##### EDA on dataframe"
   ]
  },
  {
   "cell_type": "code",
   "execution_count": 2,
   "metadata": {},
   "outputs": [
    {
     "data": {
      "text/plain": [
       "DataFrame[Rank: int, Company Name: string, Number of Employees: string, Previous Rank: int, Revenues: string, Revenue Change: string, Profits: string, Profit Change: string, Assets: string, Market Value: string]"
      ]
     },
     "execution_count": 2,
     "metadata": {},
     "output_type": "execute_result"
    }
   ],
   "source": [
    "company_df.cache()"
   ]
  },
  {
   "cell_type": "markdown",
   "metadata": {},
   "source": [
    "#### What is cache() and what it is used for ? *\n",
    "- Dataset.cache() save it to storage level \"memory_and_disk\"\n",
    "- RDD.cache() save it to storage level \"memory_only\"\n",
    "- Dataset.presist save it to storage levels \"Memory_Only,Memory_and_disk,MEMORY_ONLY_SER, MEMORY_AND_DISK_SER, DISK_ONLY, MEMORY_ONLY_2,MEMORY_AND_DISK_2 and more\"\n",
    "- Cache() method in dataset class internally calls persist() method which in turn uses sparkSession.sharedState.cacheManager.cacheQuery\n",
    "\n",
    "- Note that Dataset cache() is an alias for persist(StorageLevel.MEMORY_AND_DISK)"
   ]
  },
  {
   "cell_type": "code",
   "execution_count": 3,
   "metadata": {},
   "outputs": [
    {
     "name": "stdout",
     "output_type": "stream",
     "text": [
      "root\n",
      " |-- Rank: integer (nullable = true)\n",
      " |-- Company Name: string (nullable = true)\n",
      " |-- Number of Employees: string (nullable = true)\n",
      " |-- Previous Rank: integer (nullable = true)\n",
      " |-- Revenues: string (nullable = true)\n",
      " |-- Revenue Change: string (nullable = true)\n",
      " |-- Profits: string (nullable = true)\n",
      " |-- Profit Change: string (nullable = true)\n",
      " |-- Assets: string (nullable = true)\n",
      " |-- Market Value: string (nullable = true)\n",
      "\n"
     ]
    }
   ],
   "source": [
    "company_df.printSchema()"
   ]
  },
  {
   "cell_type": "code",
   "execution_count": 4,
   "metadata": {},
   "outputs": [],
   "source": [
    "# Dataset have $ dollar symbol with price and () as well and some of the values are there with precentage symbol %\n",
    "# we need to remove the $ symbol and % symble and convert the datatype to int of float"
   ]
  },
  {
   "cell_type": "code",
   "execution_count": 5,
   "metadata": {},
   "outputs": [],
   "source": [
    "# To remove the $ dollar symbol here i m using map function \n",
    "import pyspark.sql.functions as f\n",
    "\n",
    "#company_df.select(\"Number of Employees\",f.regexp_replace(f.col(\"Number of Employees\"),\"[)$,(%]\",\"\"))\n",
    "\n",
    "company_df = company_df.withColumn('Revenues', f.regexp_replace('Revenues', '[)$,(%]', ''))\n",
    "company_df = company_df.withColumn('Number of Employees', f.regexp_replace('Number of Employees', '[)$,(%]', ''))\n",
    "company_df = company_df.withColumn('Revenue Change', f.regexp_replace('Revenue Change', '[)$,(%]', ''))\n",
    "company_df = company_df.withColumn('Profits', f.regexp_replace('Profits', '[)$,(%]', ''))\n",
    "company_df = company_df.withColumn('Profit Change', f.regexp_replace('Profit Change', '[)$,(%]', ''))\n",
    "company_df = company_df.withColumn('Assets', f.regexp_replace('Assets', '[)$,(%]', ''))\n",
    "company_df = company_df.withColumn('Market Value', f.regexp_replace('Market Value', '[)$,(%]', ''))\n"
   ]
  },
  {
   "cell_type": "code",
   "execution_count": 6,
   "metadata": {},
   "outputs": [
    {
     "name": "stdout",
     "output_type": "stream",
     "text": [
      "root\n",
      " |-- Rank: integer (nullable = true)\n",
      " |-- Company Name: string (nullable = true)\n",
      " |-- Number of Employees: string (nullable = true)\n",
      " |-- Previous Rank: integer (nullable = true)\n",
      " |-- Revenues: string (nullable = true)\n",
      " |-- Revenue Change: string (nullable = true)\n",
      " |-- Profits: string (nullable = true)\n",
      " |-- Profit Change: string (nullable = true)\n",
      " |-- Assets: string (nullable = true)\n",
      " |-- Market Value: string (nullable = true)\n",
      "\n"
     ]
    }
   ],
   "source": [
    "company_df.printSchema()"
   ]
  },
  {
   "cell_type": "code",
   "execution_count": 7,
   "metadata": {},
   "outputs": [],
   "source": [
    "company_df = company_df.withColumn(\"Number of Employees\",company_df[\"Number of Employees\"].cast('integer'))\n",
    "company_df = company_df.withColumn(\"Revenues\",company_df[\"Revenues\"].cast('float'))\n",
    "company_df = company_df.withColumn(\"Revenue Change\",company_df[\"Revenue Change\"].cast('float'))\n",
    "company_df = company_df.withColumn(\"Profits\",company_df[\"Profits\"].cast('float'))\n",
    "company_df = company_df.withColumn(\"Profit Change\",company_df[\"Profit Change\"].cast('float'))\n",
    "company_df = company_df.withColumn(\"Assets\",company_df[\"Assets\"].cast('float'))\n",
    "company_df = company_df.withColumn(\"Market Value\",company_df[\"Market Value\"].cast('float'))"
   ]
  },
  {
   "cell_type": "code",
   "execution_count": 8,
   "metadata": {},
   "outputs": [
    {
     "data": {
      "text/html": [
       "<div>\n",
       "<style scoped>\n",
       "    .dataframe tbody tr th:only-of-type {\n",
       "        vertical-align: middle;\n",
       "    }\n",
       "\n",
       "    .dataframe tbody tr th {\n",
       "        vertical-align: top;\n",
       "    }\n",
       "\n",
       "    .dataframe thead th {\n",
       "        text-align: right;\n",
       "    }\n",
       "</style>\n",
       "<table border=\"1\" class=\"dataframe\">\n",
       "  <thead>\n",
       "    <tr style=\"text-align: right;\">\n",
       "      <th></th>\n",
       "      <th>0</th>\n",
       "      <th>1</th>\n",
       "      <th>2</th>\n",
       "      <th>3</th>\n",
       "      <th>4</th>\n",
       "    </tr>\n",
       "  </thead>\n",
       "  <tbody>\n",
       "    <tr>\n",
       "      <th>summary</th>\n",
       "      <td>count</td>\n",
       "      <td>mean</td>\n",
       "      <td>stddev</td>\n",
       "      <td>min</td>\n",
       "      <td>max</td>\n",
       "    </tr>\n",
       "    <tr>\n",
       "      <th>Rank</th>\n",
       "      <td>500</td>\n",
       "      <td>250.5</td>\n",
       "      <td>144.4818327679989</td>\n",
       "      <td>1</td>\n",
       "      <td>500</td>\n",
       "    </tr>\n",
       "    <tr>\n",
       "      <th>Company Name</th>\n",
       "      <td>500</td>\n",
       "      <td>None</td>\n",
       "      <td>None</td>\n",
       "      <td>3M</td>\n",
       "      <td>salesforce.com</td>\n",
       "    </tr>\n",
       "    <tr>\n",
       "      <th>Number of Employees</th>\n",
       "      <td>500</td>\n",
       "      <td>56955.526</td>\n",
       "      <td>123622.28829319982</td>\n",
       "      <td>1326</td>\n",
       "      <td>2300000</td>\n",
       "    </tr>\n",
       "    <tr>\n",
       "      <th>Previous Rank</th>\n",
       "      <td>492</td>\n",
       "      <td>257.1117886178862</td>\n",
       "      <td>154.04809767869145</td>\n",
       "      <td>1</td>\n",
       "      <td>761</td>\n",
       "    </tr>\n",
       "    <tr>\n",
       "      <th>Revenues</th>\n",
       "      <td>500</td>\n",
       "      <td>24111.748</td>\n",
       "      <td>38337.353336533255</td>\n",
       "      <td>5145.0</td>\n",
       "      <td>485873.0</td>\n",
       "    </tr>\n",
       "    <tr>\n",
       "      <th>Revenue Change</th>\n",
       "      <td>494</td>\n",
       "      <td>3.7469635552722917</td>\n",
       "      <td>20.087136340107538</td>\n",
       "      <td>-57.5</td>\n",
       "      <td>197.3</td>\n",
       "    </tr>\n",
       "    <tr>\n",
       "      <th>Profits</th>\n",
       "      <td>499</td>\n",
       "      <td>1783.4753509590287</td>\n",
       "      <td>3940.495363355243</td>\n",
       "      <td>-6177.0</td>\n",
       "      <td>45687.0</td>\n",
       "    </tr>\n",
       "    <tr>\n",
       "      <th>Profit Change</th>\n",
       "      <td>434</td>\n",
       "      <td>-0.22511515089993103</td>\n",
       "      <td>118.58187469929302</td>\n",
       "      <td>-892.3</td>\n",
       "      <td>962.5</td>\n",
       "    </tr>\n",
       "    <tr>\n",
       "      <th>Assets</th>\n",
       "      <td>500</td>\n",
       "      <td>80389.34</td>\n",
       "      <td>270425.7009408743</td>\n",
       "      <td>437.0</td>\n",
       "      <td>3287968.0</td>\n",
       "    </tr>\n",
       "    <tr>\n",
       "      <th>Market Value</th>\n",
       "      <td>470</td>\n",
       "      <td>41322.39787234043</td>\n",
       "      <td>75614.01067796398</td>\n",
       "      <td>120.0</td>\n",
       "      <td>753718.0</td>\n",
       "    </tr>\n",
       "  </tbody>\n",
       "</table>\n",
       "</div>"
      ],
      "text/plain": [
       "                         0                     1                   2        3  \\\n",
       "summary              count                  mean              stddev      min   \n",
       "Rank                   500                 250.5   144.4818327679989        1   \n",
       "Company Name           500                  None                None       3M   \n",
       "Number of Employees    500             56955.526  123622.28829319982     1326   \n",
       "Previous Rank          492     257.1117886178862  154.04809767869145        1   \n",
       "Revenues               500             24111.748  38337.353336533255   5145.0   \n",
       "Revenue Change         494    3.7469635552722917  20.087136340107538    -57.5   \n",
       "Profits                499    1783.4753509590287   3940.495363355243  -6177.0   \n",
       "Profit Change          434  -0.22511515089993103  118.58187469929302   -892.3   \n",
       "Assets                 500              80389.34   270425.7009408743    437.0   \n",
       "Market Value           470     41322.39787234043   75614.01067796398    120.0   \n",
       "\n",
       "                                  4  \n",
       "summary                         max  \n",
       "Rank                            500  \n",
       "Company Name         salesforce.com  \n",
       "Number of Employees         2300000  \n",
       "Previous Rank                   761  \n",
       "Revenues                   485873.0  \n",
       "Revenue Change                197.3  \n",
       "Profits                     45687.0  \n",
       "Profit Change                 962.5  \n",
       "Assets                    3287968.0  \n",
       "Market Value               753718.0  "
      ]
     },
     "execution_count": 8,
     "metadata": {},
     "output_type": "execute_result"
    }
   ],
   "source": [
    "company_df.describe().toPandas().transpose()"
   ]
  },
  {
   "cell_type": "code",
   "execution_count": 9,
   "metadata": {},
   "outputs": [
    {
     "data": {
      "text/plain": [
       "<matplotlib.axes._subplots.AxesSubplot at 0x18a0d8ee198>"
      ]
     },
     "execution_count": 9,
     "metadata": {},
     "output_type": "execute_result"
    }
   ],
   "source": [
    "### Find the correlation between independent variables\n",
    "import pandas as pd\n",
    "numerical_feature = [t[0] for t in company_df.dtypes if t[1] =='int' or t[1] =='double']\n",
    "sample_data = company_df.select(numerical_feature).sample(False,0.8).toPandas()\n",
    "sample_data.plot.scatter(x='Rank',y='Previous Rank', c='DarkBlue')"
   ]
  },
  {
   "cell_type": "code",
   "execution_count": 10,
   "metadata": {},
   "outputs": [
    {
     "data": {
      "text/plain": [
       "<matplotlib.axes._subplots.AxesSubplot at 0x18a0fb155f8>"
      ]
     },
     "execution_count": 10,
     "metadata": {},
     "output_type": "execute_result"
    },
    {
     "data": {
      "image/png": "[encoded data removed]",
      "text/plain": [
       "<Figure size 432x288 with 1 Axes>"
      ]
     },
     "metadata": {
      "needs_background": "light"
     },
     "output_type": "display_data"
    }
   ],
   "source": [
    "sample_data.plot.scatter(x='Rank',y='Number of Employees', c='DarkBlue')"
   ]
  },
  {
   "cell_type": "code",
   "execution_count": 14,
   "metadata": {},
   "outputs": [
    {
     "name": "stdout",
     "output_type": "stream",
     "text": [
      "Correlation to Number of Employee for  Rank -0.34535285439684765\n",
      "Correlation to Number of Employee for  Number of Employees 1.0\n",
      "Correlation to Number of Employee for  Previous Rank -0.3372052389045615\n",
      "Correlation to Number of Employee for  Revenues 0.7171111129276473\n",
      "Correlation to Number of Employee for  Revenue Change 0.02294757490260374\n",
      "Correlation to Number of Employee for  Profits 0.3405741774792542\n",
      "Correlation to Number of Employee for  Profit Change 0.011479239544284111\n",
      "Correlation to Number of Employee for  Assets 0.1254252200249459\n",
      "Correlation to Number of Employee for  Market Value 0.32317029152830545\n"
     ]
    }
   ],
   "source": [
    "#Correlation Between Independent Variable\n",
    "import six\n",
    "for i in company_df.columns:\n",
    "    if not( isinstance(company_df.select(i).take(1)[0][0], six.string_types)):\n",
    "        print( \"Correlation to Number of Employee for \", i, company_df.stat.corr('Number of Employees',i))"
   ]
  },
  {
   "cell_type": "markdown",
   "metadata": {},
   "source": [
    "##### Preparing Data"
   ]
  },
  {
   "cell_type": "code",
   "execution_count": 17,
   "metadata": {},
   "outputs": [
    {
     "name": "stdout",
     "output_type": "stream",
     "text": [
      "+---------------+-------------------+\n",
      "|       features|Number of Employees|\n",
      "+---------------+-------------------+\n",
      "|[1.0,2300000.0]|            2300000|\n",
      "| [2.0,367700.0]|             367700|\n",
      "| [3.0,116000.0]|             116000|\n",
      "|  [4.0,72700.0]|              72700|\n",
      "|  [5.0,68000.0]|              68000|\n",
      "| [6.0,230000.0]|             230000|\n",
      "| [7.0,204000.0]|             204000|\n",
      "| [8.0,225000.0]|             225000|\n",
      "| [9.0,268540.0]|             268540|\n",
      "|[10.0,201000.0]|             201000|\n",
      "| [11.0,18500.0]|              18500|\n",
      "|[12.0,341400.0]|             341400|\n",
      "|[13.0,295000.0]|             295000|\n",
      "|[14.0,160900.0]|             160900|\n",
      "| [15.0,37300.0]|              37300|\n",
      "|[16.0,172000.0]|             172000|\n",
      "|[17.0,300000.0]|             300000|\n",
      "|[18.0,443000.0]|             443000|\n",
      "| [19.0,55200.0]|              55200|\n",
      "|  [20.0,7000.0]|               7000|\n",
      "+---------------+-------------------+\n",
      "only showing top 20 rows\n",
      "\n"
     ]
    }
   ],
   "source": [
    "from pyspark.ml.feature import VectorAssembler\n",
    "vectorAssembler  = VectorAssembler(inputCols = [\"Rank\",\"Number of Employees\"] , outputCol = \"features\")\n",
    "tcompany_df = vectorAssembler.transform(company_df)\n",
    "tcompany_df = tcompany_df.select(['features','Number of Employees'])\n",
    "tcompany_df.show()"
   ]
  },
  {
   "cell_type": "code",
   "execution_count": 19,
   "metadata": {},
   "outputs": [],
   "source": [
    "splits = tcompany_df.randomSplit([0.7,0.3])\n",
    "train_df = splits[0]\n",
    "test_df = splits[1]"
   ]
  },
  {
   "cell_type": "code",
   "execution_count": 20,
   "metadata": {},
   "outputs": [
    {
     "name": "stdout",
     "output_type": "stream",
     "text": [
      "+---------------+-------------------+\n",
      "|       features|Number of Employees|\n",
      "+---------------+-------------------+\n",
      "| [2.0,367700.0]|             367700|\n",
      "|  [5.0,68000.0]|              68000|\n",
      "| [6.0,230000.0]|             230000|\n",
      "| [7.0,204000.0]|             204000|\n",
      "| [9.0,268540.0]|             268540|\n",
      "|[10.0,201000.0]|             201000|\n",
      "|[12.0,341400.0]|             341400|\n",
      "|[14.0,160900.0]|             160900|\n",
      "| [15.0,37300.0]|              37300|\n",
      "|[16.0,172000.0]|             172000|\n",
      "|[17.0,300000.0]|             300000|\n",
      "|[18.0,443000.0]|             443000|\n",
      "|  [20.0,7000.0]|               7000|\n",
      "|[21.0,243355.0]|             243355|\n",
      "|[23.0,406000.0]|             406000|\n",
      "|[24.0,150540.0]|             150540|\n",
      "|[28.0,114000.0]|             114000|\n",
      "| [29.0,53000.0]|              53000|\n",
      "|[30.0,219000.0]|             219000|\n",
      "|[31.0,159000.0]|             159000|\n",
      "+---------------+-------------------+\n",
      "only showing top 20 rows\n",
      "\n"
     ]
    }
   ],
   "source": [
    "train_df.show()"
   ]
  },
  {
   "cell_type": "markdown",
   "metadata": {},
   "source": [
    "##### Linear regression model"
   ]
  },
  {
   "cell_type": "code",
   "execution_count": 23,
   "metadata": {},
   "outputs": [
    {
     "name": "stderr",
     "output_type": "stream",
     "text": [
      "Exception ignored in: <function JavaWrapper.__del__ at 0x0000018A15FD8510>\n",
      "Traceback (most recent call last):\n",
      "  File \"D:\\spark\\spark-3.0.1-bin-hadoop2.7\\python\\pyspark\\ml\\wrapper.py\", line 42, in __del__\n",
      "    if SparkContext._active_spark_context and self._java_obj is not None:\n",
      "AttributeError: 'LinearRegression' object has no attribute '_java_obj'\n"
     ]
    },
    {
     "name": "stdout",
     "output_type": "stream",
     "text": [
      "Coefficients: [0.0,1.0]\n",
      "Intercept: 0.0\n"
     ]
    }
   ],
   "source": [
    "from pyspark.ml.regression import LinearRegression\n",
    "lr = LinearRegression(featuresCol ='features',labelCol='Number of Employees',maxIter=10,elasticNetParam = 0.8)\n",
    "lr_model = lr.fit(train_df)\n",
    "print(\"Coefficients: \" + str(lr_model.coefficients))\n",
    "print(\"Intercept: \" + str(lr_model.intercept))"
   ]
  },
  {
   "cell_type": "code",
   "execution_count": null,
   "metadata": {},
   "outputs": [],
   "source": []
  }
 ],
 "metadata": {
  "kernelspec": {
   "display_name": "Python 3",
   "language": "python",
   "name": "python3"
  },
  "language_info": {
   "codemirror_mode": {
    "name": "ipython",
    "version": 3
   },
   "file_extension": ".py",
   "mimetype": "text/x-python",
   "name": "python",
   "nbconvert_exporter": "python",
   "pygments_lexer": "ipython3",
   "version": "3.7.0"
  }
 },
 "nbformat": 4,
 "nbformat_minor": 2
}
